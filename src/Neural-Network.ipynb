{
 "cells": [
  {
   "cell_type": "code",
   "execution_count": 3,
   "outputs": [],
   "source": [
    "from sklearn.model_selection import train_test_split, cross_validate\n",
    "from sklearn.ensemble import RandomForestClassifier\n",
    "from sklearn.metrics import confusion_matrix,accuracy_score,classification_report\n",
    "import pandas as pd"
   ],
   "metadata": {
    "collapsed": false,
    "pycharm": {
     "name": "#%%\n"
    }
   }
  },
  {
   "cell_type": "code",
   "execution_count": 4,
   "outputs": [],
   "source": [
    "from IPython.core.interactiveshell import InteractiveShell\n",
    "InteractiveShell.ast_node_interactivity = \"all\"\n",
    "pd.set_option('display.precision', 3)"
   ],
   "metadata": {
    "collapsed": false,
    "pycharm": {
     "name": "#%%\n"
    }
   }
  },
  {
   "cell_type": "code",
   "execution_count": 5,
   "outputs": [],
   "source": [
    "from graphviz import Digraph\n",
    "from time import time\n",
    "from datetime import timedelta"
   ],
   "metadata": {
    "collapsed": false,
    "pycharm": {
     "name": "#%%\n"
    }
   }
  },
  {
   "cell_type": "code",
   "execution_count": 50,
   "outputs": [],
   "source": [
    "from sklearn.preprocessing import StandardScaler\n",
    "from sklearn.model_selection import cross_val_score\n",
    "from sklearn.linear_model import LogisticRegression\n",
    "from sklearn.neural_network import MLPClassifier\n",
    "from sklearn.model_selection import GridSearchCV\n",
    "from sklearn.metrics import confusion_matrix"
   ],
   "metadata": {
    "collapsed": false,
    "pycharm": {
     "name": "#%%\n"
    }
   }
  },
  {
   "cell_type": "code",
   "execution_count": null,
   "outputs": [],
   "source": [
    "X = pd.read_csv('../data/processed/X_train', header=0, index_col=0)\n",
    "y = pd.read_csv('../data/processed/y_train', header=0, index_col=0)\n",
    "# X_train, X_test, y_train, y_test = train_test_split(X,y, test_size=0.2, random_state=42, stratify=y[hd_split[\"target\"]])\n",
    "# # creating hd_train to be used for exploratory data analysis\n",
    "# hd_train, hd_test = train_test_split(hd, test_size=0.2, random_state=42, stratify=y[hd_split[\"target\"]])\n",
    "# print(f\"Test stratification is: {y_test.mean()}\")\n",
    "# print(f\"Train stratification is: {y_train.mean()}\")\n",
    "\n",
    "X_train, X_test, y_train, y_test = train_test_split(X, y, test_size=0.2, random_state=42, stratify=y[[\"target\"]])\n",
    "print(X_train.shape, y_train.shape, X_test.shape, y_test.shape)\n",
    "print(f\"Test stratification is: {y_test.mean()}\")\n",
    "print(f\"Train stratification is: {y_train.mean()}\")"
   ],
   "metadata": {
    "collapsed": false,
    "pycharm": {
     "name": "#%%\n"
    }
   }
  },
  {
   "cell_type": "code",
   "execution_count": null,
   "outputs": [],
   "source": [
    "scaler = StandardScaler()\n",
    "X_train = scaler.fit_transform(X_train)\n",
    "X_test = scaler.transform(X_test)\n",
    "# X = scaler.fit_transform(X)\n",
    "\n",
    "y_train = y_train.values.ravel()\n",
    "y_test = y_test.values.ravel()\n",
    "# y = y_train.values.ravel()"
   ],
   "metadata": {
    "collapsed": false,
    "pycharm": {
     "name": "#%%\n"
    }
   }
  },
  {
   "cell_type": "markdown",
   "source": [
    "# Metrics + Baseline\n",
    "## Playing with Metrics from ML07 lab"
   ],
   "metadata": {
    "collapsed": false,
    "pycharm": {
     "name": "#%% md\n"
    }
   }
  },
  {
   "cell_type": "code",
   "execution_count": null,
   "outputs": [],
   "source": [
    "results_df = pd.DataFrame(index=['Logistic Regression'],\n",
    "                          columns=['F-score (cv)', 'Precision (cv)','Recall (cv)', 'Accuracy (cv)'])"
   ],
   "metadata": {
    "collapsed": false,
    "pycharm": {
     "name": "#%%\n"
    }
   }
  },
  {
   "cell_type": "code",
   "execution_count": null,
   "outputs": [],
   "source": [
    "def confusion(true, pred):\n",
    "    \"\"\"\n",
    "    Function for pretty printing confusion matrices\n",
    "    \"\"\"\n",
    "    pred = pd.Series(pred)\n",
    "    true = pd.Series(true)\n",
    "\n",
    "    true.name = 'target'\n",
    "    pred.name = 'predicted'\n",
    "    cm = pd.crosstab(true.reset_index(drop=True), pred.reset_index(drop=True))\n",
    "    cm = cm[cm.index]\n",
    "    return cm"
   ],
   "metadata": {
    "collapsed": false,
    "pycharm": {
     "name": "#%%\n"
    }
   }
  },
  {
   "cell_type": "code",
   "execution_count": null,
   "outputs": [],
   "source": [
    "def graphMLP(vars,layers,intercepts):\n",
    "    \"\"\"\n",
    "    Function for plotting the weights of a mlp\n",
    "    \"\"\"\n",
    "    f = Digraph('')\n",
    "    f.attr(rankdir='LR')\n",
    "    for i,l in enumerate(layers):\n",
    "        if i==0:\n",
    "            for j in range(l.shape[1]):\n",
    "                for k, v in enumerate(vars):\n",
    "                    f.edge(v, 'L%dN%d'%(i,j), label=str(l[k,j]))\n",
    "            f.node('ILI', shape='doublecircle')\n",
    "            for k in range(intercepts[i].shape[0]):\n",
    "                f.edge('ILI',\n",
    "                       'L%dN%d'%(i,k),\n",
    "                       label=str(intercepts[i][k]))\n",
    "        else:\n",
    "            for j in range(l.shape[1]):\n",
    "                for k in range(layers[i-1].shape[1]):\n",
    "                    f.edge('L%dN%d'%(i-1,k),\n",
    "                           'L%dN%d'%(i,j),\n",
    "                           label=str(l[k,j]))\n",
    "            f.node('L%dI'%(i-1), shape='doublecircle')\n",
    "            for k in range(intercepts[i].shape[0]):\n",
    "                f.edge('L%dI'%(i-1),\n",
    "                       'L%dN%d'%(i,k),\n",
    "                       label=str(intercepts[i][k]))\n",
    "\n",
    "    return f\n"
   ],
   "metadata": {
    "collapsed": false,
    "pycharm": {
     "name": "#%%\n"
    }
   }
  },
  {
   "cell_type": "code",
   "execution_count": null,
   "outputs": [],
   "source": [
    "logreg = LogisticRegression()\n",
    "logreg.fit(X_train, y_train)\n",
    "scores = cross_val_score(logreg, X_train, y_train, cv=5)\n",
    "y_pred_lr = logreg.predict(X_train)\n",
    "\n",
    "cross_val_results = pd.DataFrame(cross_validate(logreg, X_train, y_train, cv = 5,\n",
    "                                                scoring = [ 'f1_macro', 'precision_macro', 'recall_macro', 'accuracy'] ))\n",
    "\n",
    "results_df.loc['Logistic Regression',:] = cross_val_results[['test_f1_macro',\n",
    "       'test_precision_macro', 'test_recall_macro','test_accuracy']].mean().values\n",
    "\n",
    "confusion(y_train,y_pred_lr)\n",
    "results_df"
   ],
   "metadata": {
    "collapsed": false,
    "pycharm": {
     "name": "#%%\n"
    }
   }
  },
  {
   "cell_type": "code",
   "execution_count": null,
   "outputs": [],
   "source": [
    "rf = RandomForestClassifier(n_estimators=50, random_state=42,max_depth=4)\n",
    "rf.fit(X_train, y_train)\n",
    "scores = cross_val_score(rf, X_train, y_train, cv=5)\n",
    "y_pred_lr = rf.predict(X_train)\n",
    "\n",
    "cross_val_results = pd.DataFrame(cross_validate(rf , X_train, y_train, cv = 5,\n",
    "                                                scoring = [ 'f1_macro', 'precision_macro', 'recall_macro', 'accuracy'] ))\n",
    "\n",
    "results_df.loc['Random Forest',:] = cross_val_results[['test_f1_macro',\n",
    "       'test_precision_macro', 'test_recall_macro','test_accuracy']].mean().values\n",
    "\n",
    "confusion(y_train,y_pred_lr)\n",
    "results_df"
   ],
   "metadata": {
    "collapsed": false,
    "pycharm": {
     "name": "#%%\n"
    }
   }
  },
  {
   "cell_type": "markdown",
   "source": [
    "# Neural Network Model"
   ],
   "metadata": {
    "collapsed": false,
    "pycharm": {
     "name": "#%% md\n"
    }
   }
  },
  {
   "cell_type": "code",
   "execution_count": null,
   "outputs": [],
   "source": [
    "model_nnet = MLPClassifier(hidden_layer_sizes=[1],\n",
    "                           alpha=0,\n",
    "                           activation='logistic',\n",
    "                           max_iter=200,\n",
    "                           solver='lbfgs',random_state=42)\n",
    "model_nnet.fit(X_train, y_train);\n",
    "\n",
    "y_pred = model_nnet.predict(X_train)\n",
    "\n",
    "print('Confusion matrix of the TRAIN dataset')\n",
    "confusion(y_train, y_pred)\n",
    "\n",
    "cross_val_results = pd.DataFrame(cross_validate(model_nnet , X_train, y_train, cv = 5,\n",
    "                                                scoring = [ 'f1_macro', 'precision_macro', 'recall_macro', 'accuracy'] ))\n",
    "\n",
    "results_df.loc['MLP[1]',:] = cross_val_results[['test_f1_macro',\n",
    "       'test_precision_macro', 'test_recall_macro','test_accuracy']].mean().values\n",
    "\n",
    "results_df.sort_values(by='F-score (cv)', ascending=False)"
   ],
   "metadata": {
    "collapsed": false,
    "pycharm": {
     "name": "#%%\n"
    }
   }
  },
  {
   "cell_type": "code",
   "execution_count": null,
   "outputs": [],
   "source": [
    "model_nnet.coefs_\n",
    "model_nnet.intercepts_"
   ],
   "metadata": {
    "collapsed": false,
    "pycharm": {
     "name": "#%%\n"
    }
   }
  },
  {
   "cell_type": "code",
   "execution_count": null,
   "outputs": [],
   "source": [
    "# dataset = X.join(y)\n",
    "# graphMLP(dataset.columns[1:], model_nnet.coefs_, model_nnet.intercepts_)\n",
    "pred = pd.Series(y_pred)\n",
    "true = pd.Series(y_train)\n",
    "\n",
    "true.name = 'target'\n",
    "pred.name = 'predicted'\n",
    "cm = pd.crosstab(true.reset_index(drop=True), pred.reset_index(drop=True))\n",
    "# cm = cm[cm.index]\n",
    "cm"
   ],
   "metadata": {
    "collapsed": false,
    "pycharm": {
     "name": "#%%\n"
    }
   }
  },
  {
   "cell_type": "code",
   "execution_count": null,
   "outputs": [],
   "source": [
    "model_nnet = MLPClassifier(hidden_layer_sizes=[2,2,2],\n",
    "                           alpha=0,\n",
    "                           activation='logistic',\n",
    "                           max_iter=1000,\n",
    "                           solver='lbfgs',random_state=42)\n",
    "model_nnet.fit(X_train,y_train);\n",
    "y_pred = model_nnet.predict(X_train)\n",
    "\n",
    "print('Confusion matrix of the TRAIN dataset')\n",
    "# confusion(y_train,y_pred)\n",
    "# confusion_matrix(y_train, y_pred)\n",
    "#TODO: It looks like the prediction output is always \"0\"? Something is wrong with this code but I can't figure out what!!!\n",
    "# y_pred\n",
    "\n",
    "cross_val_results = pd.DataFrame(cross_validate(model_nnet , X_train, y_train, cv = 5,\n",
    "                                                scoring = [ 'f1_macro', 'precision_macro', 'recall_macro', 'accuracy'] ))\n",
    "\n",
    "results_df.loc['MLP[2,2]',:] = cross_val_results[['test_f1_macro',\n",
    "       'test_precision_macro', 'test_recall_macro','test_accuracy']].mean().values\n",
    "\n",
    "results_df.sort_values(by='F-score (cv)', ascending=False)\n",
    "\n",
    "pred = pd.Series(y_pred)\n",
    "true = pd.Series(y_train)\n",
    "# pred\n",
    "# true\n",
    "\n",
    "true.name = 'target'\n",
    "pred.name = 'predicted'\n",
    "cm = pd.crosstab(true.reset_index(drop=True), pred.reset_index(drop=True))\n",
    "cm = cm[cm.index]"
   ],
   "metadata": {
    "collapsed": false,
    "pycharm": {
     "name": "#%%\n"
    }
   }
  },
  {
   "cell_type": "code",
   "execution_count": null,
   "outputs": [],
   "source": [
    "graphMLP(dataset.columns[1:], model_nnet.coefs_, model_nnet.intercepts_)"
   ],
   "metadata": {
    "collapsed": false,
    "pycharm": {
     "name": "#%%\n"
    }
   }
  },
  {
   "cell_type": "code",
   "execution_count": null,
   "outputs": [],
   "source": [
    "model_nnet = MLPClassifier(hidden_layer_sizes=[2,2,2],\n",
    "                           alpha=0.001,\n",
    "                           activation='logistic',\n",
    "                           max_iter=1000,\n",
    "                           solver='lbfgs',random_state=42)\n",
    "model_nnet.fit(X_train,y_train);\n",
    "print('Confusion matrix of the TRAIN dataset')\n",
    "confusion(y_train,y_pred)\n",
    "\n",
    "cross_val_results = pd.DataFrame(cross_validate(model_nnet , X_train, y_train, cv = 5,\n",
    "                                                scoring = [ 'f1_macro', 'precision_macro', 'recall_macro', 'accuracy'] ))\n",
    "\n",
    "results_df.loc['MLP[2,2,2]-alpha=0.001',:] = cross_val_results[['test_f1_macro',\n",
    "       'test_precision_macro', 'test_recall_macro','test_accuracy']].mean().values\n",
    "\n",
    "results_df.sort_values(by='F-score (cv)', ascending=False)"
   ],
   "metadata": {
    "collapsed": false,
    "pycharm": {
     "name": "#%%\n"
    }
   }
  },
  {
   "cell_type": "code",
   "execution_count": null,
   "outputs": [],
   "source": [
    "graphMLP(dataset.columns[1:], model_nnet.coefs_, model_nnet.intercepts_)"
   ],
   "metadata": {
    "collapsed": false,
    "pycharm": {
     "name": "#%%\n"
    }
   }
  },
  {
   "cell_type": "markdown",
   "source": [
    "# Tuning Parameters\n",
    "Using a grid search"
   ],
   "metadata": {
    "collapsed": false,
    "pycharm": {
     "name": "#%% md\n"
    }
   }
  },
  {
   "cell_type": "code",
   "execution_count": null,
   "outputs": [],
   "source": [
    "sizes = [2*i for i in range(1,5)]\n",
    "sizes = sizes + [[2*i,2*i] for i in range(1,5)]\n",
    "sizes = sizes + [[2*i,2*i, 2*i] for i in range(1,5)]\n",
    "\n",
    "len(sizes), sizes\n",
    "\n",
    "\n",
    "decays = [0.00001,0.0001,0.001,0.01,0.1,0.5,1]\n",
    "len(decays), decays[:10]"
   ],
   "metadata": {
    "collapsed": false,
    "pycharm": {
     "name": "#%%\n"
    }
   }
  },
  {
   "cell_type": "code",
   "execution_count": null,
   "outputs": [],
   "source": [
    "init_time=time()\n",
    "model_nnet = MLPClassifier(alpha=0,\n",
    "                           activation='logistic',\n",
    "                           max_iter=500,\n",
    "                           solver='lbfgs',\n",
    "                           random_state=42)\n",
    "\n",
    "trc = GridSearchCV(estimator=model_nnet,\n",
    "                   scoring=['f1_macro', 'precision_macro', 'recall_macro', 'accuracy'],\n",
    "                   param_grid={'hidden_layer_sizes': sizes,\n",
    "                              'alpha': decays},\n",
    "                   cv=10,\n",
    "                   return_train_score=True,\n",
    "                   refit='f1_macro')\n",
    "\n",
    "model_10CV = trc.fit(X_train, y_train)\n",
    "print(timedelta(seconds=(time()-init_time)))"
   ],
   "metadata": {
    "collapsed": false,
    "pycharm": {
     "name": "#%%\n"
    }
   }
  },
  {
   "cell_type": "code",
   "execution_count": null,
   "outputs": [],
   "source": [
    "pd.DataFrame(model_10CV.cv_results_).loc[:,['param_alpha','param_hidden_layer_sizes',  'mean_test_f1_macro',\n",
    "                                            'std_test_f1_macro','mean_test_precision_macro', 'std_test_precision_macro',\n",
    "                                        'mean_test_accuracy','std_test_accuracy',]].sort_values(by='mean_test_f1_macro',\n",
    "                                                                                                ascending=False).head()"
   ],
   "metadata": {
    "collapsed": false,
    "pycharm": {
     "name": "#%%\n"
    }
   }
  },
  {
   "cell_type": "code",
   "execution_count": null,
   "outputs": [],
   "source": [
    "model_10CV.best_params_\n",
    "model_10CV.best_score_"
   ],
   "metadata": {
    "collapsed": false,
    "pycharm": {
     "name": "#%%\n"
    }
   }
  },
  {
   "cell_type": "code",
   "execution_count": null,
   "outputs": [],
   "source": [
    "cross_val_results = pd.DataFrame(cross_validate(model_10CV.best_estimator_ , X_train, y_train, cv = 5, scoring = [ 'f1_macro', 'precision_macro', 'recall_macro', 'accuracy'] ))\n",
    "\n",
    "results_df.loc['MLP[2,2]-alpha=0.00001',:] = cross_val_results[['test_f1_macro',\n",
    "       'test_precision_macro', 'test_recall_macro','test_accuracy']].mean().values\n",
    "\n",
    "results_df.sort_values(by='F-score (cv)', ascending=False)"
   ],
   "metadata": {
    "collapsed": false,
    "pycharm": {
     "name": "#%%\n"
    }
   }
  },
  {
   "cell_type": "code",
   "execution_count": null,
   "outputs": [],
   "source": [
    "y_pred = model_10CV.predict(X_test)\n",
    "\n",
    "confusion(y_test,y_pred)\n",
    "\n",
    "print(classification_report(y_test, y_pred))"
   ],
   "metadata": {
    "collapsed": false,
    "pycharm": {
     "name": "#%%\n"
    }
   }
  }
 ],
 "metadata": {
  "kernelspec": {
   "display_name": "Python 3",
   "language": "python",
   "name": "python3"
  },
  "language_info": {
   "codemirror_mode": {
    "name": "ipython",
    "version": 2
   },
   "file_extension": ".py",
   "mimetype": "text/x-python",
   "name": "python",
   "nbconvert_exporter": "python",
   "pygments_lexer": "ipython2",
   "version": "2.7.6"
  }
 },
 "nbformat": 4,
 "nbformat_minor": 0
}