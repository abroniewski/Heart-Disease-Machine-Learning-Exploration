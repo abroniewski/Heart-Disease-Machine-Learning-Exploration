{
 "cells": [
  {
   "cell_type": "code",
   "id": "008c765d",
   "metadata": {
    "pycharm": {
     "name": "#%%\n"
    }
   },
   "source": [
    "import numpy as np\n",
    "import matplotlib.pyplot as plt\n",
    "import seaborn as sns\n",
    "import pandas as pd\n"
   ],
   "execution_count": null,
   "outputs": []
  },
  {
   "cell_type": "markdown",
   "source": [
    "### Original atts:\n",
    "age; sex (1,0); cp (1-4); trestbps; chol; fbs (1,0); restecg (0,1,2); thalach; exang (1,0); oldpeak; slope (1,2,3); ca; thal (3,6,7); class att: 0 is healthy, 1,2,3,4 is sick."
   ],
   "metadata": {
    "collapsed": false,
    "pycharm": {
     "name": "#%% md\n"
    }
   }
  },
  {
   "cell_type": "code",
   "execution_count": 75,
   "id": "f0cfa755",
   "metadata": {},
   "outputs": [
    {
     "name": "stdout",
     "output_type": "stream",
     "text": [
      "(303, 14)\n"
     ]
    },
    {
     "data": {
      "text/plain": "    age  sex   cp  trestbps   chol  fbs  restecg  thalach  exang  oldpeak  \\\n0  63.0  1.0  1.0     145.0  233.0  1.0      2.0    150.0    0.0      2.3   \n1  67.0  1.0  4.0     160.0  286.0  0.0      2.0    108.0    1.0      1.5   \n2  67.0  1.0  4.0     120.0  229.0  0.0      2.0    129.0    1.0      2.6   \n3  37.0  1.0  3.0     130.0  250.0  0.0      0.0    187.0    0.0      3.5   \n4  41.0  0.0  2.0     130.0  204.0  0.0      2.0    172.0    0.0      1.4   \n\n   slope   ca thal  target  \n0    3.0  0.0  6.0       0  \n1    2.0  3.0  3.0       2  \n2    2.0  2.0  7.0       1  \n3    3.0  0.0  3.0       0  \n4    1.0  0.0  3.0       0  ",
      "text/html": "<div>\n<style scoped>\n    .dataframe tbody tr th:only-of-type {\n        vertical-align: middle;\n    }\n\n    .dataframe tbody tr th {\n        vertical-align: top;\n    }\n\n    .dataframe thead th {\n        text-align: right;\n    }\n</style>\n<table border=\"1\" class=\"dataframe\">\n  <thead>\n    <tr style=\"text-align: right;\">\n      <th></th>\n      <th>age</th>\n      <th>sex</th>\n      <th>cp</th>\n      <th>trestbps</th>\n      <th>chol</th>\n      <th>fbs</th>\n      <th>restecg</th>\n      <th>thalach</th>\n      <th>exang</th>\n      <th>oldpeak</th>\n      <th>slope</th>\n      <th>ca</th>\n      <th>thal</th>\n      <th>target</th>\n    </tr>\n  </thead>\n  <tbody>\n    <tr>\n      <th>0</th>\n      <td>63.0</td>\n      <td>1.0</td>\n      <td>1.0</td>\n      <td>145.0</td>\n      <td>233.0</td>\n      <td>1.0</td>\n      <td>2.0</td>\n      <td>150.0</td>\n      <td>0.0</td>\n      <td>2.3</td>\n      <td>3.0</td>\n      <td>0.0</td>\n      <td>6.0</td>\n      <td>0</td>\n    </tr>\n    <tr>\n      <th>1</th>\n      <td>67.0</td>\n      <td>1.0</td>\n      <td>4.0</td>\n      <td>160.0</td>\n      <td>286.0</td>\n      <td>0.0</td>\n      <td>2.0</td>\n      <td>108.0</td>\n      <td>1.0</td>\n      <td>1.5</td>\n      <td>2.0</td>\n      <td>3.0</td>\n      <td>3.0</td>\n      <td>2</td>\n    </tr>\n    <tr>\n      <th>2</th>\n      <td>67.0</td>\n      <td>1.0</td>\n      <td>4.0</td>\n      <td>120.0</td>\n      <td>229.0</td>\n      <td>0.0</td>\n      <td>2.0</td>\n      <td>129.0</td>\n      <td>1.0</td>\n      <td>2.6</td>\n      <td>2.0</td>\n      <td>2.0</td>\n      <td>7.0</td>\n      <td>1</td>\n    </tr>\n    <tr>\n      <th>3</th>\n      <td>37.0</td>\n      <td>1.0</td>\n      <td>3.0</td>\n      <td>130.0</td>\n      <td>250.0</td>\n      <td>0.0</td>\n      <td>0.0</td>\n      <td>187.0</td>\n      <td>0.0</td>\n      <td>3.5</td>\n      <td>3.0</td>\n      <td>0.0</td>\n      <td>3.0</td>\n      <td>0</td>\n    </tr>\n    <tr>\n      <th>4</th>\n      <td>41.0</td>\n      <td>0.0</td>\n      <td>2.0</td>\n      <td>130.0</td>\n      <td>204.0</td>\n      <td>0.0</td>\n      <td>2.0</td>\n      <td>172.0</td>\n      <td>0.0</td>\n      <td>1.4</td>\n      <td>1.0</td>\n      <td>0.0</td>\n      <td>3.0</td>\n      <td>0</td>\n    </tr>\n  </tbody>\n</table>\n</div>"
     },
     "execution_count": 75,
     "metadata": {},
     "output_type": "execute_result"
    }
   ],
   "source": [
    "hd = pd.read_csv('../data/processed.cleveland.data', header=None)\n",
    "hd.columns = [\"age\", \"sex\", \"cp\", \"trestbps\", \"chol\", \"fbs\", \"restecg\", \"thalach\", \"exang\", \"oldpeak\", \"slope\", \"ca\", \"thal\", \"target\"]\n",
    "hd.head()"
   ]
  },
  {
   "cell_type": "code",
   "execution_count": 76,
   "outputs": [
    {
     "data": {
      "text/plain": "(303, 14)"
     },
     "execution_count": 76,
     "metadata": {},
     "output_type": "execute_result"
    }
   ],
   "source": [
    "hd.shape"
   ],
   "metadata": {
    "collapsed": false,
    "pycharm": {
     "name": "#%%\n"
    }
   }
  },
  {
   "cell_type": "code",
   "execution_count": 77,
   "outputs": [
    {
     "data": {
      "text/plain": "              age         sex          cp    trestbps        chol         fbs  \\\ncount  303.000000  303.000000  303.000000  303.000000  303.000000  303.000000   \nmean    54.438944    0.679868    3.158416  131.689769  246.693069    0.148515   \nstd      9.038662    0.467299    0.960126   17.599748   51.776918    0.356198   \nmin     29.000000    0.000000    1.000000   94.000000  126.000000    0.000000   \n25%     48.000000    0.000000    3.000000  120.000000  211.000000    0.000000   \n50%     56.000000    1.000000    3.000000  130.000000  241.000000    0.000000   \n75%     61.000000    1.000000    4.000000  140.000000  275.000000    0.000000   \nmax     77.000000    1.000000    4.000000  200.000000  564.000000    1.000000   \n\n          restecg     thalach       exang     oldpeak       slope      target  \ncount  303.000000  303.000000  303.000000  303.000000  303.000000  303.000000  \nmean     0.990099  149.607261    0.326733    1.039604    1.600660    0.937294  \nstd      0.994971   22.875003    0.469794    1.161075    0.616226    1.228536  \nmin      0.000000   71.000000    0.000000    0.000000    1.000000    0.000000  \n25%      0.000000  133.500000    0.000000    0.000000    1.000000    0.000000  \n50%      1.000000  153.000000    0.000000    0.800000    2.000000    0.000000  \n75%      2.000000  166.000000    1.000000    1.600000    2.000000    2.000000  \nmax      2.000000  202.000000    1.000000    6.200000    3.000000    4.000000  ",
      "text/html": "<div>\n<style scoped>\n    .dataframe tbody tr th:only-of-type {\n        vertical-align: middle;\n    }\n\n    .dataframe tbody tr th {\n        vertical-align: top;\n    }\n\n    .dataframe thead th {\n        text-align: right;\n    }\n</style>\n<table border=\"1\" class=\"dataframe\">\n  <thead>\n    <tr style=\"text-align: right;\">\n      <th></th>\n      <th>age</th>\n      <th>sex</th>\n      <th>cp</th>\n      <th>trestbps</th>\n      <th>chol</th>\n      <th>fbs</th>\n      <th>restecg</th>\n      <th>thalach</th>\n      <th>exang</th>\n      <th>oldpeak</th>\n      <th>slope</th>\n      <th>target</th>\n    </tr>\n  </thead>\n  <tbody>\n    <tr>\n      <th>count</th>\n      <td>303.000000</td>\n      <td>303.000000</td>\n      <td>303.000000</td>\n      <td>303.000000</td>\n      <td>303.000000</td>\n      <td>303.000000</td>\n      <td>303.000000</td>\n      <td>303.000000</td>\n      <td>303.000000</td>\n      <td>303.000000</td>\n      <td>303.000000</td>\n      <td>303.000000</td>\n    </tr>\n    <tr>\n      <th>mean</th>\n      <td>54.438944</td>\n      <td>0.679868</td>\n      <td>3.158416</td>\n      <td>131.689769</td>\n      <td>246.693069</td>\n      <td>0.148515</td>\n      <td>0.990099</td>\n      <td>149.607261</td>\n      <td>0.326733</td>\n      <td>1.039604</td>\n      <td>1.600660</td>\n      <td>0.937294</td>\n    </tr>\n    <tr>\n      <th>std</th>\n      <td>9.038662</td>\n      <td>0.467299</td>\n      <td>0.960126</td>\n      <td>17.599748</td>\n      <td>51.776918</td>\n      <td>0.356198</td>\n      <td>0.994971</td>\n      <td>22.875003</td>\n      <td>0.469794</td>\n      <td>1.161075</td>\n      <td>0.616226</td>\n      <td>1.228536</td>\n    </tr>\n    <tr>\n      <th>min</th>\n      <td>29.000000</td>\n      <td>0.000000</td>\n      <td>1.000000</td>\n      <td>94.000000</td>\n      <td>126.000000</td>\n      <td>0.000000</td>\n      <td>0.000000</td>\n      <td>71.000000</td>\n      <td>0.000000</td>\n      <td>0.000000</td>\n      <td>1.000000</td>\n      <td>0.000000</td>\n    </tr>\n    <tr>\n      <th>25%</th>\n      <td>48.000000</td>\n      <td>0.000000</td>\n      <td>3.000000</td>\n      <td>120.000000</td>\n      <td>211.000000</td>\n      <td>0.000000</td>\n      <td>0.000000</td>\n      <td>133.500000</td>\n      <td>0.000000</td>\n      <td>0.000000</td>\n      <td>1.000000</td>\n      <td>0.000000</td>\n    </tr>\n    <tr>\n      <th>50%</th>\n      <td>56.000000</td>\n      <td>1.000000</td>\n      <td>3.000000</td>\n      <td>130.000000</td>\n      <td>241.000000</td>\n      <td>0.000000</td>\n      <td>1.000000</td>\n      <td>153.000000</td>\n      <td>0.000000</td>\n      <td>0.800000</td>\n      <td>2.000000</td>\n      <td>0.000000</td>\n    </tr>\n    <tr>\n      <th>75%</th>\n      <td>61.000000</td>\n      <td>1.000000</td>\n      <td>4.000000</td>\n      <td>140.000000</td>\n      <td>275.000000</td>\n      <td>0.000000</td>\n      <td>2.000000</td>\n      <td>166.000000</td>\n      <td>1.000000</td>\n      <td>1.600000</td>\n      <td>2.000000</td>\n      <td>2.000000</td>\n    </tr>\n    <tr>\n      <th>max</th>\n      <td>77.000000</td>\n      <td>1.000000</td>\n      <td>4.000000</td>\n      <td>200.000000</td>\n      <td>564.000000</td>\n      <td>1.000000</td>\n      <td>2.000000</td>\n      <td>202.000000</td>\n      <td>1.000000</td>\n      <td>6.200000</td>\n      <td>3.000000</td>\n      <td>4.000000</td>\n    </tr>\n  </tbody>\n</table>\n</div>"
     },
     "execution_count": 77,
     "metadata": {},
     "output_type": "execute_result"
    }
   ],
   "source": [
    "hd.describe()"
   ],
   "metadata": {
    "collapsed": false,
    "pycharm": {
     "name": "#%%\n"
    }
   }
  },
  {
   "cell_type": "code",
   "execution_count": 78,
   "id": "4ff4f153",
   "metadata": {},
   "outputs": [
    {
     "data": {
      "text/plain": "age         float64\nsex         float64\ncp          float64\ntrestbps    float64\nchol        float64\nfbs         float64\nrestecg     float64\nthalach     float64\nexang       float64\noldpeak     float64\nslope       float64\nca           object\nthal         object\ntarget        int64\ndtype: object"
     },
     "execution_count": 78,
     "metadata": {},
     "output_type": "execute_result"
    }
   ],
   "source": [
    "hd.dtypes"
   ]
  },
  {
   "cell_type": "code",
   "execution_count": 89,
   "outputs": [
    {
     "data": {
      "text/plain": "age          int64\nsex         object\ncp          object\ntrestbps     int64\nchol         int64\nfbs         object\nrestecg     object\nthalach      int64\nexang       object\noldpeak      int64\nslope       object\nca          object\nthal        object\ntarget      object\ndtype: object"
     },
     "execution_count": 89,
     "metadata": {},
     "output_type": "execute_result"
    }
   ],
   "source": [
    "objectAttributesKey = [\"sex\", \"cp\", \"fbs\", \"restecg\", \"exang\", \"slope\", \"ca\", \"thal\", \"target\"]\n",
    "objectAttributes = {i: \"object\" for i in objectAttributesKey}\n",
    "\n",
    "integerAttributesKey = [\"age\", \"trestbps\", \"chol\", \"thalach\", \"oldpeak\"]\n",
    "integerAttributes = {i: \"int\" for i in integerAttributesKey}\n",
    "\n",
    "attributeTypes = objectAttributes | integerAttributes\n",
    "hd=hd.astype(attributeTypes)\n",
    "\n",
    "hd.dtypes"
   ],
   "metadata": {
    "collapsed": false,
    "pycharm": {
     "name": "#%%\n"
    }
   }
  },
  {
   "cell_type": "code",
   "execution_count": 90,
   "outputs": [
    {
     "name": "stdout",
     "output_type": "stream",
     "text": [
      "              age    trestbps        chol     thalach     oldpeak\n",
      "count  303.000000  303.000000  303.000000  303.000000  303.000000\n",
      "mean    47.663366  115.864686  216.006601  133.617162    0.716172\n",
      "std     19.195721   45.350053   92.618923   53.154392    0.982615\n",
      "min      1.000000    1.000000    1.000000    1.000000    0.000000\n",
      "25%     43.000000  112.000000  198.000000  125.000000    0.000000\n",
      "50%     53.000000  128.000000  232.000000  152.000000    0.000000\n",
      "75%     59.000000  140.000000  269.000000  165.500000    1.000000\n",
      "max     77.000000  200.000000  564.000000  202.000000    6.000000\n"
     ]
    }
   ],
   "source": [
    "print(hd.describe(include=\"int\"))"
   ],
   "metadata": {
    "collapsed": false,
    "pycharm": {
     "name": "#%%\n"
    }
   }
  },
  {
   "cell_type": "code",
   "execution_count": 92,
   "outputs": [
    {
     "data": {
      "text/plain": "          sex     cp    fbs  restecg  exang  slope   ca thal  target\ncount   303.0  303.0  303.0    303.0  303.0  303.0  303  303     303\nunique    2.0    4.0    2.0      3.0    2.0    3.0    5    4       5\ntop       1.0    4.0    0.0      2.0    0.0    1.0  0.0  3.0       0\nfreq    213.0  114.0  231.0    132.0  190.0  171.0  176  166     164",
      "text/html": "<div>\n<style scoped>\n    .dataframe tbody tr th:only-of-type {\n        vertical-align: middle;\n    }\n\n    .dataframe tbody tr th {\n        vertical-align: top;\n    }\n\n    .dataframe thead th {\n        text-align: right;\n    }\n</style>\n<table border=\"1\" class=\"dataframe\">\n  <thead>\n    <tr style=\"text-align: right;\">\n      <th></th>\n      <th>sex</th>\n      <th>cp</th>\n      <th>fbs</th>\n      <th>restecg</th>\n      <th>exang</th>\n      <th>slope</th>\n      <th>ca</th>\n      <th>thal</th>\n      <th>target</th>\n    </tr>\n  </thead>\n  <tbody>\n    <tr>\n      <th>count</th>\n      <td>303.0</td>\n      <td>303.0</td>\n      <td>303.0</td>\n      <td>303.0</td>\n      <td>303.0</td>\n      <td>303.0</td>\n      <td>303</td>\n      <td>303</td>\n      <td>303</td>\n    </tr>\n    <tr>\n      <th>unique</th>\n      <td>2.0</td>\n      <td>4.0</td>\n      <td>2.0</td>\n      <td>3.0</td>\n      <td>2.0</td>\n      <td>3.0</td>\n      <td>5</td>\n      <td>4</td>\n      <td>5</td>\n    </tr>\n    <tr>\n      <th>top</th>\n      <td>1.0</td>\n      <td>4.0</td>\n      <td>0.0</td>\n      <td>2.0</td>\n      <td>0.0</td>\n      <td>1.0</td>\n      <td>0.0</td>\n      <td>3.0</td>\n      <td>0</td>\n    </tr>\n    <tr>\n      <th>freq</th>\n      <td>213.0</td>\n      <td>114.0</td>\n      <td>231.0</td>\n      <td>132.0</td>\n      <td>190.0</td>\n      <td>171.0</td>\n      <td>176</td>\n      <td>166</td>\n      <td>164</td>\n    </tr>\n  </tbody>\n</table>\n</div>"
     },
     "execution_count": 92,
     "metadata": {},
     "output_type": "execute_result"
    }
   ],
   "source": [
    "hd.describe(include=\"object\")"
   ],
   "metadata": {
    "collapsed": false,
    "pycharm": {
     "name": "#%%\n"
    }
   }
  },
  {
   "cell_type": "markdown",
   "source": [
    "# Taking Care of missing data"
   ],
   "metadata": {
    "collapsed": false
   }
  },
  {
   "cell_type": "code",
   "execution_count": 93,
   "id": "124dc76f",
   "metadata": {},
   "outputs": [
    {
     "name": "stdout",
     "output_type": "stream",
     "text": [
      "(303, 14)\n",
      "(303, 14)\n"
     ]
    }
   ],
   "source": [
    "print(hd.shape)\n",
    "hd1=hd.dropna()\n",
    "print(hd1.shape)"
   ]
  },
  {
   "cell_type": "markdown",
   "id": "71502c66",
   "metadata": {},
   "source": [
    "# Finding Outliers"
   ]
  },
  {
   "cell_type": "code",
   "execution_count": null,
   "outputs": [],
   "source": [
    "hd_data = hd.iloc[:, :-1].values\n",
    "hd_target = hd.iloc[:, -1].values"
   ],
   "metadata": {
    "collapsed": false,
    "pycharm": {
     "name": "#%%\n"
    }
   }
  },
  {
   "cell_type": "code",
   "execution_count": 94,
   "id": "eed8d0da",
   "metadata": {},
   "outputs": [
    {
     "data": {
      "text/plain": "<Figure size 648x360 with 2 Axes>",
      "image/png": "[encoded data removed]"
     },
     "metadata": {
      "needs_background": "light"
     },
     "output_type": "display_data"
    }
   ],
   "source": [
    "fig, axes= plt.subplots(1,2, gridspec_kw={'width_ratios': [1, 4]}, figsize=(9,5))\n",
    "axes.boxplot\n",
    "# hd.boxplot(column='age',ax=axes[0]);\n",
    "# hd.hist(column='age', ax=axes[1]);"
   ]
  },
  {
   "cell_type": "markdown",
   "id": "d116e248",
   "metadata": {},
   "source": [
    "TODO: box plot each attribute using seaborn/matplotlib and see if any outliers "
   ]
  },
  {
   "cell_type": "code",
   "execution_count": 95,
   "id": "3ab92d8c",
   "metadata": {},
   "outputs": [
    {
     "data": {
      "text/plain": "Text(0.5, 1.0, 'Boxplot')"
     },
     "execution_count": 95,
     "metadata": {},
     "output_type": "execute_result"
    },
    {
     "data": {
      "text/plain": "<Figure size 432x288 with 1 Axes>",
      "image/png": "[encoded data removed]"
     },
     "metadata": {
      "needs_background": "light"
     },
     "output_type": "display_data"
    }
   ],
   "source": [
    "sns.boxplot(y=hd['age'])\n",
    "plt.title('Boxplot')"
   ]
  },
  {
   "cell_type": "markdown",
   "id": "0a923304",
   "metadata": {},
   "source": [
    "# Visualization\n"
   ]
  },
  {
   "cell_type": "code",
   "execution_count": 96,
   "id": "064a1d2a",
   "metadata": {},
   "outputs": [
    {
     "data": {
      "text/plain": "0    164\n1     55\n2     36\n3     35\n4     13\nName: target, dtype: int64"
     },
     "execution_count": 96,
     "metadata": {},
     "output_type": "execute_result"
    }
   ],
   "source": [
    "hd['target'].value_counts()"
   ]
  },
  {
   "cell_type": "code",
   "execution_count": 97,
   "id": "7107e554",
   "metadata": {},
   "outputs": [
    {
     "data": {
      "text/plain": "0    164\n1     55\n2     36\n3     35\n4     13\nName: target, dtype: int64"
     },
     "execution_count": 97,
     "metadata": {},
     "output_type": "execute_result"
    }
   ],
   "source": [
    "hd['target'].value_counts()"
   ]
  },
  {
   "cell_type": "code",
   "execution_count": 98,
   "id": "6512c4e4",
   "metadata": {},
   "outputs": [],
   "source": [
    "hd.loc[hd.target == 2] = 1\n",
    "hd.loc[hd.target == 3] = 1\n",
    "hd.loc[hd.target == 4] = 1"
   ]
  },
  {
   "cell_type": "code",
   "execution_count": 99,
   "id": "aecad2a4",
   "metadata": {},
   "outputs": [
    {
     "name": "stdout",
     "output_type": "stream",
     "text": [
      "0    164\n",
      "1    139\n",
      "Name: target, dtype: int64\n"
     ]
    },
    {
     "data": {
      "text/plain": "<AxesSubplot:>"
     },
     "execution_count": 99,
     "metadata": {},
     "output_type": "execute_result"
    },
    {
     "data": {
      "text/plain": "<Figure size 432x288 with 1 Axes>",
      "image/png": "[encoded data removed]"
     },
     "metadata": {
      "needs_background": "light"
     },
     "output_type": "display_data"
    }
   ],
   "source": [
    "print(hd['target'].value_counts())\n",
    "\n",
    "hd.target.value_counts(normalize=True).plot(kind='bar')\n"
   ]
  },
  {
   "cell_type": "code",
   "execution_count": 100,
   "id": "d0743ef8",
   "metadata": {},
   "outputs": [
    {
     "data": {
      "text/plain": "<AxesSubplot:>"
     },
     "execution_count": 100,
     "metadata": {},
     "output_type": "execute_result"
    },
    {
     "data": {
      "text/plain": "<Figure size 432x288 with 1 Axes>",
      "image/png": "[encoded data removed]"
     },
     "metadata": {
      "needs_background": "light"
     },
     "output_type": "display_data"
    }
   ],
   "source": [
    "hd.sex.value_counts(normalize=True).plot(kind='bar')"
   ]
  },
  {
   "cell_type": "code",
   "execution_count": 101,
   "id": "da892a6d",
   "metadata": {},
   "outputs": [
    {
     "name": "stderr",
     "output_type": "stream",
     "text": [
      "/Users/adambroniewski/.local/share/virtualenvs/Machine-Learning-Project-QM2H3y13/lib/python3.9/site-packages/seaborn/_decorators.py:36: FutureWarning: Pass the following variable as a keyword arg: x. From version 0.12, the only valid positional argument will be `data`, and passing other arguments without an explicit keyword will result in an error or misinterpretation.\n",
      "  warnings.warn(\n"
     ]
    },
    {
     "data": {
      "text/plain": "<AxesSubplot:xlabel='sex', ylabel='count'>"
     },
     "execution_count": 101,
     "metadata": {},
     "output_type": "execute_result"
    },
    {
     "data": {
      "text/plain": "<Figure size 432x288 with 1 Axes>",
      "image/png": "[encoded data removed]"
     },
     "metadata": {
      "needs_background": "light"
     },
     "output_type": "display_data"
    }
   ],
   "source": [
    "sns.countplot('sex', data=hd, hue='target')"
   ]
  },
  {
   "cell_type": "markdown",
   "id": "a77a3c5d",
   "metadata": {},
   "source": [
    "# Fast Visualization"
   ]
  },
  {
   "cell_type": "code",
   "execution_count": 55,
   "id": "13192103",
   "metadata": {},
   "outputs": [],
   "source": [
    "\n"
   ]
  },
  {
   "cell_type": "markdown",
   "id": "7c0299a7",
   "metadata": {},
   "source": [
    "# Description of the attributes\n",
    "1. age - age in years \n",
    "\n",
    "2. sex - (1 = male; 0 = female) \n",
    "\n",
    "3. cp - chest pain type \n",
    "\n",
    "0: Typical angina: chest pain related decrease blood supply to the heart \n",
    "\n",
    "1: Atypical angina: chest pain not related to heart \n",
    "\n",
    "2: Non-anginal pain: typically esophageal spasms (non heart related) \n",
    "\n",
    "3: Asymptomatic: chest pain not showing signs of disease \n",
    "\n",
    "4. trestbps - resting blood pressure (in mm Hg on admission to the hospital) anything above 130-140 is typically cause for concern \n",
    "\n",
    "5. chol - serum cholestoral in mg/dl \n",
    "\n",
    "serum = LDL + HDL + .2 * triglycerides \n",
    "\n",
    "above 200 is cause for concern \n",
    "\n",
    "6. fbs - (fasting blood sugar > 120 mg/dl) (1 = true; 0 = false) \n",
    "\n",
    "'>126' mg/dL signals diabetes \n",
    "\n",
    "7. restecg - resting electrocardiographic results \n",
    "\n",
    "0: Nothing to note \n",
    "\n",
    "1: ST-T Wave abnormality \n",
    "\n",
    "can range from mild symptoms to severe problems \n",
    "\n",
    "signals non-normal heart beat \n",
    "\n",
    "2: Possible or definite left ventricular hypertrophy \n",
    "\n",
    "Enlarged heart's main pumping chamber \n",
    "\n",
    "8. thalach - maximum heart rate achieved \n",
    "\n",
    "9. exang - exercise induced angina (1 = yes; 0 = no) \n",
    "\n",
    "10. oldpeak - ST depression induced by exercise relative to rest looks at stress of heart during excercise unhealthy heart will stress more \n",
    "\n",
    "11. slope - the slope of the peak exercise ST segment \n",
    "\n",
    "0: Upsloping: better heart rate with excercise (uncommon) \n",
    "\n",
    "1: Flatsloping: minimal change (typical healthy heart) \n",
    "\n",
    "2: Downslopins: signs of unhealthy heart \n",
    "\n",
    "12. ca - number of major vessels (0-3) colored by flourosopy \n",
    "\n",
    "colored vessel means the doctor can see the blood passing through \n",
    "\n",
    "the more blood movement the better (no clots) \n",
    "\n",
    "13. thal - thalium stress result \n",
    "\n",
    "1,3: normal \n",
    "\n",
    "6: fixed defect: used to be defect but ok now \n",
    "\n",
    "7: reversable defect: no proper blood movement when exercising \n",
    "\n",
    "14. target - have disease or not (1=yes, 0=no) (= the predicted attribute) "
   ]
  },
  {
   "cell_type": "code",
   "execution_count": 88,
   "id": "2d09dcd8",
   "metadata": {},
   "outputs": [
    {
     "data": {
      "text/plain": "<Figure size 1872x1440 with 16 Axes>",
      "image/png": "[encoded data removed]"
     },
     "metadata": {
      "needs_background": "light"
     },
     "output_type": "display_data"
    }
   ],
   "source": [
    "\n",
    "fig, axes = plt.subplots(4,4,figsize=(26,20))\n",
    "# We will not plot country because it has too many categories.\n",
    "for i, c in enumerate(hd.columns[1:]):\n",
    "    ax = axes.reshape(-1)[i]\n",
    "    if hd[c].dtype.kind == 'O':\n",
    "        a = sns.countplot(x=c,data=hd,ax=ax)\n",
    "    else:\n",
    "        b = sns.histplot(x=c,data=hd,ax=ax)\n",
    "    t = ax.set_title(c)\n",
    "plt.tight_layout()"
   ]
  },
  {
   "cell_type": "markdown",
   "id": "70ce8714",
   "metadata": {},
   "source": [
    "It looks like some attriubutes have lots of 1's. Let's explore that to see how many."
   ]
  },
  {
   "cell_type": "code",
   "execution_count": 102,
   "id": "8a9dc487",
   "metadata": {},
   "outputs": [
    {
     "name": "stdout",
     "output_type": "stream",
     "text": [
      "84\n",
      "84\n",
      "84\n",
      "136\n"
     ]
    }
   ],
   "source": [
    "print((hd['thalach'] == 1).sum())\n",
    "print((hd['trestbps'] == 1).sum())\n",
    "print((hd['chol'] == 1).sum())\n",
    "print((hd['oldpeak'] == 1).sum())"
   ]
  },
  {
   "cell_type": "markdown",
   "id": "fccdf5e3",
   "metadata": {},
   "source": [
    "TODO: Cycle through all the attributes and compare to target using seaborn"
   ]
  },
  {
   "cell_type": "markdown",
   "id": "274d8335",
   "metadata": {},
   "source": [
    "Interesting... the first three attributes all have 84 instances where the value is \"1\". This may be a \"missing\" value.\n",
    "TODO: Read about what those three attributes are, and how the testing was done to gain those values. What does the 1 mean?"
   ]
  },
  {
   "cell_type": "markdown",
   "id": "f2bc7e8a",
   "metadata": {},
   "source": [
    "Let's see how the attributes are related to target variable"
   ]
  },
  {
   "cell_type": "code",
   "execution_count": 103,
   "id": "3465c77b",
   "metadata": {},
   "outputs": [
    {
     "name": "stdout",
     "output_type": "stream",
     "text": [
      "age\n"
     ]
    },
    {
     "ename": "AttributeError",
     "evalue": "'str' object has no attribute 'asString'",
     "output_type": "error",
     "traceback": [
      "\u001B[0;31m---------------------------------------------------------------------------\u001B[0m",
      "\u001B[0;31mAttributeError\u001B[0m                            Traceback (most recent call last)",
      "Input \u001B[0;32mIn [103]\u001B[0m, in \u001B[0;36m<cell line: 1>\u001B[0;34m()\u001B[0m\n\u001B[1;32m      1\u001B[0m \u001B[38;5;28;01mfor\u001B[39;00m col \u001B[38;5;129;01min\u001B[39;00m hd\u001B[38;5;241m.\u001B[39mcolumns:\n\u001B[1;32m      2\u001B[0m     \u001B[38;5;28mprint\u001B[39m(col)\n\u001B[0;32m----> 3\u001B[0m     \u001B[38;5;28mprint\u001B[39m(sns\u001B[38;5;241m.\u001B[39mcountplot(\u001B[43mcol\u001B[49m\u001B[38;5;241;43m.\u001B[39;49m\u001B[43masString\u001B[49m(), data\u001B[38;5;241m=\u001B[39mhd,hue\u001B[38;5;241m=\u001B[39m\u001B[38;5;124m'\u001B[39m\u001B[38;5;124mtarget\u001B[39m\u001B[38;5;124m'\u001B[39m))\n",
      "\u001B[0;31mAttributeError\u001B[0m: 'str' object has no attribute 'asString'"
     ]
    }
   ],
   "source": [
    "for col in hd.columns:\n",
    "    print(col)\n",
    "    print(sns.countplot(col.asString(), data=hd,hue='target'))\n",
    "    \n"
   ]
  },
  {
   "cell_type": "code",
   "execution_count": 104,
   "id": "91273f38",
   "metadata": {},
   "outputs": [
    {
     "name": "stderr",
     "output_type": "stream",
     "text": [
      "/Users/adambroniewski/.local/share/virtualenvs/Machine-Learning-Project-QM2H3y13/lib/python3.9/site-packages/seaborn/_decorators.py:36: FutureWarning: Pass the following variable as a keyword arg: x. From version 0.12, the only valid positional argument will be `data`, and passing other arguments without an explicit keyword will result in an error or misinterpretation.\n",
      "  warnings.warn(\n"
     ]
    },
    {
     "data": {
      "text/plain": "<AxesSubplot:xlabel='thal', ylabel='count'>"
     },
     "execution_count": 104,
     "metadata": {},
     "output_type": "execute_result"
    },
    {
     "data": {
      "text/plain": "<Figure size 432x288 with 1 Axes>",
      "image/png": "[encoded data removed]"
     },
     "metadata": {
      "needs_background": "light"
     },
     "output_type": "display_data"
    }
   ],
   "source": [
    "sns.countplot('thal', data=hd,hue='target')"
   ]
  },
  {
   "cell_type": "code",
   "execution_count": null,
   "id": "fc4c2bc0",
   "metadata": {},
   "outputs": [],
   "source": []
  }
 ],
 "metadata": {
  "kernelspec": {
   "display_name": "Python 3",
   "language": "python",
   "name": "python3"
  },
  "language_info": {
   "codemirror_mode": {
    "name": "ipython",
    "version": 3
   },
   "file_extension": ".py",
   "mimetype": "text/x-python",
   "name": "python",
   "nbconvert_exporter": "python",
   "pygments_lexer": "ipython3",
   "version": "3.8.8"
  }
 },
 "nbformat": 4,
 "nbformat_minor": 5
}