{
 "cells": [
  {
   "cell_type": "code",
   "execution_count": 19,
   "outputs": [],
   "source": [
    "from sklearn.model_selection import train_test_split, cross_validate\n",
    "from sklearn.ensemble import RandomForestClassifier\n",
    "from sklearn.metrics import confusion_matrix,accuracy_score,classification_report\n",
    "import pandas as pd"
   ],
   "metadata": {
    "collapsed": false,
    "pycharm": {
     "name": "#%%\n"
    }
   }
  },
  {
   "cell_type": "code",
   "execution_count": 6,
   "outputs": [],
   "source": [
    "from time import time\n",
    "from datetime import timedelta"
   ],
   "metadata": {
    "collapsed": false,
    "pycharm": {
     "name": "#%%\n"
    }
   }
  },
  {
   "cell_type": "code",
   "execution_count": 7,
   "outputs": [],
   "source": [
    "from sklearn.preprocessing import StandardScaler\n",
    "from sklearn.model_selection import KFold, cross_val_score\n",
    "from sklearn.model_selection import GridSearchCV"
   ],
   "metadata": {
    "collapsed": false,
    "pycharm": {
     "name": "#%%\n"
    }
   }
  },
  {
   "cell_type": "code",
   "execution_count": 13,
   "outputs": [],
   "source": [
    "X = pd.read_csv('../data/processed/X_train', header=0, index_col=0)\n",
    "y = pd.read_csv('../data/processed/y_train', header=0, index_col=0)"
   ],
   "metadata": {
    "collapsed": false,
    "pycharm": {
     "name": "#%%\n"
    }
   }
  },
  {
   "cell_type": "markdown",
   "source": [
    "# Splitting Data into Test and Train\n",
    "\n",
    "- Explain: stratify\n",
    "- Explain: transform + data leakage"
   ],
   "metadata": {
    "collapsed": false,
    "pycharm": {
     "name": "#%% md\n"
    }
   }
  },
  {
   "cell_type": "code",
   "execution_count": 15,
   "outputs": [
    {
     "name": "stdout",
     "output_type": "stream",
     "text": [
      "(189, 13) (189, 1) (48, 13) (48, 1)\n"
     ]
    }
   ],
   "source": [
    "X_train, X_test, y_train, y_test = train_test_split(X, y, test_size=0.2, random_state=42, stratify=y[[\"target\"]])\n",
    "print(X_train.shape, y_train.shape, X_test.shape, y_test.shape)"
   ],
   "metadata": {
    "collapsed": false,
    "pycharm": {
     "name": "#%%\n"
    }
   }
  },
  {
   "cell_type": "code",
   "execution_count": 10,
   "outputs": [],
   "source": [
    "scaler = StandardScaler()\n",
    "X_train = scaler.fit_transform(X_train)\n",
    "X_test = scaler.transform(X_test)\n",
    "y_train = y_train.values.ravel()\n",
    "y_test = y_test.values.ravel()"
   ],
   "metadata": {
    "collapsed": false,
    "pycharm": {
     "name": "#%%\n"
    }
   }
  },
  {
   "cell_type": "markdown",
   "source": [
    "# Tracking Metrics\n",
    "- Here we setup a function to output a pretty confusion matrix and a dataframe to keep track of performance metrics for each model"
   ],
   "metadata": {
    "collapsed": false,
    "pycharm": {
     "name": "#%% md\n"
    }
   }
  },
  {
   "cell_type": "code",
   "execution_count": 21,
   "outputs": [],
   "source": [
    "def confusion(true, pred):\n",
    "    \"\"\"\n",
    "    Function for pretty printing confusion matrices\n",
    "    \"\"\"\n",
    "    pred = pd.Series(pred)\n",
    "    true = pd.Series(true)\n",
    "\n",
    "    true.name = 'target'\n",
    "    pred.name = 'predicted'\n",
    "    cm = pd.crosstab(true.reset_index(drop=True), pred.reset_index(drop=True))\n",
    "    cm = cm[cm.index]\n",
    "    return cm"
   ],
   "metadata": {
    "collapsed": false,
    "pycharm": {
     "name": "#%%\n"
    }
   }
  },
  {
   "cell_type": "code",
   "execution_count": 22,
   "outputs": [],
   "source": [
    "results_df = pd.DataFrame(index=['Logistic Regression'],\n",
    "                          columns=['F-score (cv)', 'Precision (cv)','Recall (cv)', 'Accuracy (cv)'])"
   ],
   "metadata": {
    "collapsed": false,
    "pycharm": {
     "name": "#%%\n"
    }
   }
  },
  {
   "cell_type": "markdown",
   "source": [
    "# Random Forest - First Version 1\n",
    "This is a simple random forest with untuned parameters\n",
    "\n",
    "- Explain: parameters used\n",
    "- Output: coefficients\n",
    "- Explain: Do coefficients make sense?"
   ],
   "metadata": {
    "collapsed": false,
    "pycharm": {
     "name": "#%% md\n"
    }
   }
  },
  {
   "cell_type": "code",
   "execution_count": null,
   "outputs": [],
   "source": [
    "init_time=time()\n",
    "\n",
    "rf = RandomForestClassifier(n_estimators=20, random_state=42, max_depth=4)\n",
    "rf.fit(X_train,y_train)\n",
    "rf_predicted = rf.predict(X_test)\n",
    "\n",
    "print(timedelta(seconds=(time()-init_time)))"
   ],
   "metadata": {
    "collapsed": false,
    "pycharm": {
     "name": "#%%\n"
    }
   }
  },
  {
   "cell_type": "code",
   "execution_count": null,
   "outputs": [],
   "source": [
    "cross_val_results = pd.DataFrame(cross_validate(rf, X_train, y_train, cv = 5,\n",
    "                                                scoring = [ 'f1_macro', 'precision_macro', 'recall_macro', 'accuracy'] ))\n",
    "\n",
    "results_df.loc['Logistic Regression',:] = cross_val_results[['test_f1_macro',\n",
    "       'test_precision_macro', 'test_recall_macro','test_accuracy']].mean().values\n",
    "\n",
    "confusion(y_train,rf_predicted)\n",
    "results_df"
   ],
   "metadata": {
    "collapsed": false,
    "pycharm": {
     "name": "#%%\n"
    }
   }
  },
  {
   "cell_type": "code",
   "execution_count": null,
   "outputs": [],
   "source": [
    "init_time=time()\n",
    "\n",
    "model = RandomForestClassifier()\n",
    "n_estimators = [10,40,100,200,500,1000]\n",
    "max_features = ['auto', 'sqrt', 'log2']\n",
    "max_depth = [1,2,3,4,5,6,7,8,9,10]\n",
    "criterion= ['gini', 'entropy']\n",
    "\n",
    "# define grid search\n",
    "grid = dict(n_estimators=n_estimators, max_features=max_features, max_depth=max_depth, criterion=criterion)\n",
    "#cv = RepeatedStratifiedKFold(n_splits=10, n_repeats=3, random_state=1)\n",
    "cv = KFold(n_splits=10, random_state=42, shuffle=True)\n",
    "\n",
    "grid_search = GridSearchCV(estimator=model, param_grid=grid, n_jobs=-1, cv=cv, scoring='accuracy',error_score=0)\n",
    "grid_result = grid_search.fit(X_train, y_train)\n",
    "\n",
    "# print(\"Best: %f using %s\" % (grid_result.best_score_, grid_result.best_params_))\n",
    "# means = grid_result.cv_results_['mean_test_score']\n",
    "# stds = grid_result.cv_results_['std_test_score']\n",
    "# params = grid_result.cv_results_['params']\n",
    "\n",
    "model_10CV = grid_result.fit(X_train, y_train)\n",
    "\n",
    "print(timedelta(seconds=(time()-init_time)))"
   ],
   "metadata": {
    "collapsed": false,
    "pycharm": {
     "name": "#%%\n"
    }
   }
  },
  {
   "cell_type": "code",
   "execution_count": null,
   "outputs": [],
   "source": [
    "pd.DataFrame(model_10CV.cv_results_).loc[:,['param_alpha','param_hidden_layer_sizes',  'mean_test_f1_macro',\n",
    "                                            'std_test_f1_macro','mean_test_precision_macro', 'std_test_precision_macro',\n",
    "                                        'mean_test_accuracy','std_test_accuracy',]].sort_values(by='mean_test_f1_macro',\n",
    "                                                                                                ascending=False).head()"
   ],
   "metadata": {
    "collapsed": false,
    "pycharm": {
     "name": "#%%\n"
    }
   }
  },
  {
   "cell_type": "code",
   "execution_count": null,
   "outputs": [],
   "source": [
    "model = 'Random Forest Classfier'\n",
    "for n in (10,20,30,40,50,100):\n",
    "    for d in (2,3,4,5,6,7,8):\n",
    "        rf = RandomForestClassifier(n_estimators=n, random_state=42,max_depth=d)\n",
    "        rf.fit(X_train,y_train)\n",
    "        rf_predicted = rf.predict(X_test)\n",
    "        rf_conf_matrix = confusion_matrix(y_test, rf_predicted)\n",
    "        rf_acc_score = accuracy_score(y_test, rf_predicted)\n",
    "        print(\"confusion matrix\")\n",
    "        print(rf_conf_matrix)\n",
    "        print(\"\\n\")\n",
    "        print(f\"Accuracy of Random Forest with {n} estimators and {d} depth:{rf_acc_score*100} \\n\")\n",
    "        print(classification_report(y_test,rf_predicted))"
   ],
   "metadata": {
    "collapsed": false,
    "pycharm": {
     "name": "#%%\n"
    }
   }
  },
  {
   "cell_type": "code",
   "execution_count": null,
   "outputs": [],
   "source": [
    "rf2 = RandomForestClassifier(n_estimators=20, random_state=42,max_depth=5)\n",
    "rf2.fit(X_train,y_train)\n",
    "scores = cross_val_score(rf, X, y.values.ravel(), cv=5)\n",
    "scores"
   ],
   "metadata": {
    "collapsed": false,
    "pycharm": {
     "name": "#%%\n"
    }
   }
  }
 ],
 "metadata": {
  "kernelspec": {
   "display_name": "Python 3",
   "language": "python",
   "name": "python3"
  },
  "language_info": {
   "codemirror_mode": {
    "name": "ipython",
    "version": 2
   },
   "file_extension": ".py",
   "mimetype": "text/x-python",
   "name": "python",
   "nbconvert_exporter": "python",
   "pygments_lexer": "ipython2",
   "version": "2.7.6"
  }
 },
 "nbformat": 4,
 "nbformat_minor": 0
}